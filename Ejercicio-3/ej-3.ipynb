{
 "cells": [
  {
   "cell_type": "markdown",
   "metadata": {},
   "source": [
    "# Ejercicio 3: Herencia múltiple - Diamante y argumentos de constructor\n",
    "Enunciado: en el caso del temido diamante de la herencia múltiple, donde una clase D hereda de dos clases B y C, ambas heredando de una sola clase A, escriba el código que permita, durante la instanciación, inicializar los atributos a, b y c, pertenecientes respectivamente a las clases A, B y C.\n",
    "\n",
    "Comportamiento esperado:\n",
    "```\n",
    "d = D(1, 2, 3) \n",
    "print(isinstance(d, A), isinstance(d, B), isinstance(d, C)) \n",
    ">>> True True True \n",
    "print(d.a, d.b, d.c) \n",
    ">>> 1 2 3 \n",
    "```"
   ]
  },
  {
   "cell_type": "code",
   "execution_count": 1,
   "metadata": {},
   "outputs": [],
   "source": [
    "class A:\n",
    "    def __init__(self, a, b, c):\n",
    "        self.a = a\n",
    "        self.b = b\n",
    "        self.c = c\n",
    "\n",
    "class B(A):\n",
    "    #def __init__(self, a, b, c):\n",
    "        #super().__init__(a, b, c)\n",
    "    pass\n",
    "\n",
    "class C(A):\n",
    "    #def __init__(self, a, b, c):\n",
    "        #super().__init__(a, b, c)\n",
    "    pass\n",
    "\n",
    "class D(B, C):\n",
    "    #def __init__(self, a, b, c):\n",
    "        #super().__init__(a, b, c)\n",
    "    pass"
   ]
  },
  {
   "cell_type": "code",
   "execution_count": 2,
   "metadata": {},
   "outputs": [
    {
     "name": "stdout",
     "output_type": "stream",
     "text": [
      "(<class '__main__.D'>, <class '__main__.B'>, <class '__main__.C'>, <class '__main__.A'>, <class 'object'>)\n"
     ]
    }
   ],
   "source": [
    "print(D.__mro__)"
   ]
  },
  {
   "cell_type": "code",
   "execution_count": 3,
   "metadata": {},
   "outputs": [
    {
     "name": "stdout",
     "output_type": "stream",
     "text": [
      "True True True\n",
      "1 2 3\n"
     ]
    }
   ],
   "source": [
    "d = D(1, 2, 3) \n",
    "print(isinstance(d, A), isinstance(d, B), isinstance(d, C)) \n",
    "# >>> True True True \n",
    "print(d.a, d.b, d.c) \n",
    "# >>> 1 2 3 "
   ]
  }
 ],
 "metadata": {
  "kernelspec": {
   "display_name": "Python 3",
   "language": "python",
   "name": "python3"
  },
  "language_info": {
   "codemirror_mode": {
    "name": "ipython",
    "version": 3
   },
   "file_extension": ".py",
   "mimetype": "text/x-python",
   "name": "python",
   "nbconvert_exporter": "python",
   "pygments_lexer": "ipython3",
   "version": "3.10.7"
  },
  "orig_nbformat": 4
 },
 "nbformat": 4,
 "nbformat_minor": 2
}
