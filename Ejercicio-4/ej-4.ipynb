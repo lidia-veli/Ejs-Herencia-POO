{
 "cells": [
  {
   "cell_type": "markdown",
   "metadata": {},
   "source": [
    "# Ejercicio 4: Herencia múltiple - Caso \"real\"\n",
    "Enunciado: Implementar un programa que calcule la superficie total acristalada de una casa, sabiendo que una casa está formada por paredes y que cada pared tiene una orientación (Norte, Oeste, Sur, Este) y posiblemente ventanas. Una ventana tiene una superficie que se da como parámetro durante su construcción.  \n",
    "\n",
    "Comportamiento esperado:\n",
    "```\n",
    "# Instanciación de las paredes \n",
    "pared_norte = Pared(\"NORTE\") \n",
    "pared_oeste = Pared(\"OESTE\") \n",
    "pared_sur = Pared(\"SUR\") \n",
    "pared_este = Pared(\"ESTE\") \n",
    "\n",
    "# Instanciación de las ventanas \n",
    "ventana_norte = Ventana(pared_norte, 0.5) \n",
    "ventana_oeste = Ventana(pared_oeste, 1) \n",
    "ventana_sur = Ventana(pared_sur, 2) \n",
    "ventana_este = Ventana(pared_este, 1) \n",
    "\n",
    "# Instanciación de la casa con las 4 paredes \n",
    "casa = Casa([pared_norte, pared_oeste, pared_sur, pared_este]) \n",
    "print(casa.superficie_acristalada()) \n",
    ">>> 4.5 # 0.5 + 1 + 2 + 1 \n",
    "```"
   ]
  },
  {
   "cell_type": "code",
   "execution_count": 1,
   "metadata": {},
   "outputs": [],
   "source": [
    "from enum import Enum\n",
    "class Orientacion(Enum):\n",
    "    N = \"Norte\"\n",
    "    S = \"Sur\"\n",
    "    E = \"Este\"\n",
    "    W = \"Oeste\"\n",
    "\n",
    "dic_orient = {\"N\": Orientacion.N, \"NORTE\": Orientacion.N,\n",
    "              \"S\": Orientacion.S, \"SUR\": Orientacion.S, \n",
    "              \"E\": Orientacion.E,\"ESTE\": Orientacion.E, \n",
    "              \"O\": Orientacion.W,\"W\": Orientacion.W ,\"OESTE\": Orientacion.W}\n",
    "\n",
    "paredes_con_ventana = {}  # diccionario de paredes con ventanas\n",
    "# donde vamos a ir añadiendo las paredes que tengan ventanas con la ventana asociada que tengan\n",
    "\n",
    "class Pared:\n",
    "    def __init__(self, orientacion):\n",
    "        self.orientacion = orientacion  # str\n",
    "\n",
    "        # transformar la entrada a texto de la orientación en un objeto de la clase Orientacion\n",
    "        if isinstance(orientacion, str):\n",
    "            ori = orientacion.upper()  # lo ponemos en mayúsculas\n",
    "            if ori in dic_orient:  # y comprobamos que es una orientación válida\n",
    "                self.orientacion = dic_orient[ori]\n",
    "            else:\n",
    "                raise ValueError(\"Orientación no válida\")\n",
    "    \n",
    "    def __str__(self):\n",
    "        return f'Pared de orientación {self.orientacion.value}'\n",
    "\n",
    "\n",
    "class Ventana:\n",
    "    def __init__(self, pared, superficie):\n",
    "        self.pared = pared\n",
    "        paredes_con_ventana.update({pared : self})\n",
    "        self.superficie = superficie\n",
    "\n",
    "        if not isinstance(pared, Pared):\n",
    "            raise TypeError(\"El parámetro pared debe ser un objeto de la clase Pared\")\n",
    "        if not isinstance(superficie, int) and not isinstance(superficie, float):\n",
    "            raise TypeError(\"El parámetro superficie debe ser un número real\")\n",
    "    \n",
    "    def __str__(self):\n",
    "        return f'Ventana de orientación {self.pared.orientacion.value} y superficie {self.superficie}'\n",
    "\n",
    "\n",
    "class Casa:\n",
    "    def __init__(self, paredes):\n",
    "        self.paredes = paredes\n",
    "\n",
    "        if isinstance(paredes, list): # TRUE si el parámetro paredes es una lista\n",
    "            for p in paredes:\n",
    "                if not isinstance(p, Pared):\n",
    "                    raise TypeError(\"Los objetos dentro de la lista deben ser de la clase Pared\")\n",
    "                else:\n",
    "                    pass\n",
    "        else:  # FALSE si el parámetro paredes no es una lista\n",
    "            raise TypeError(\"El parámetro paredes deben ser una lista de objetos de la clase Pared\")\n",
    "        \n",
    "    \n",
    "    def superficie_acristalada(self):\n",
    "        superficie = 0\n",
    "        for p in self.paredes:  # recorremos la lista de paredes\n",
    "            if p in paredes_con_ventana:  # si hay una ventana en esa pared\n",
    "                superficie += paredes_con_ventana[p].superficie\n",
    "        return superficie"
   ]
  },
  {
   "cell_type": "code",
   "execution_count": 2,
   "metadata": {},
   "outputs": [
    {
     "name": "stdout",
     "output_type": "stream",
     "text": [
      "Pared de orientación Norte\n",
      "Pared de orientación Oeste\n",
      "Pared de orientación Sur\n",
      "Pared de orientación Este\n",
      "\n",
      "Ventana de orientación Norte y superficie 0.5\n",
      "Ventana de orientación Oeste y superficie 1\n",
      "Ventana de orientación Sur y superficie 2\n",
      "Ventana de orientación Este y superficie 1\n"
     ]
    }
   ],
   "source": [
    "# Instanciación de las paredes \n",
    "pared_norte = Pared(\"NORTE\")\n",
    "print(pared_norte)\n",
    "pared_oeste = Pared(\"OESTE\")\n",
    "print(pared_oeste)\n",
    "pared_sur = Pared(\"SUR\") \n",
    "print(pared_sur)\n",
    "pared_este = Pared(\"ESTE\")\n",
    "print(pared_este)\n",
    "print()\n",
    "\n",
    "# Instanciación de las ventanas \n",
    "ventana_norte = Ventana(pared_norte, 0.5) \n",
    "print(ventana_norte)\n",
    "ventana_oeste = Ventana(pared_oeste, 1) \n",
    "print(ventana_oeste)\n",
    "ventana_sur = Ventana(pared_sur, 2) \n",
    "print(ventana_sur)\n",
    "ventana_este = Ventana(pared_este, 1) \n",
    "print(ventana_este)"
   ]
  },
  {
   "cell_type": "code",
   "execution_count": 3,
   "metadata": {},
   "outputs": [
    {
     "name": "stdout",
     "output_type": "stream",
     "text": [
      "4.5\n"
     ]
    }
   ],
   "source": [
    "# Instanciación de la casa con las 4 paredes \n",
    "casa = Casa([pared_norte, pared_oeste, pared_sur, pared_este]) \n",
    "print(casa.superficie_acristalada()) \n",
    "# >>> 4.5 # 0.5 + 1 + 2 + 1 "
   ]
  },
  {
   "cell_type": "markdown",
   "metadata": {},
   "source": [
    "Enunciado: los edificios modernos tienen a menudo fachadas llamadas \"paredes cortina\" que actúan como paredes exteriores al mismo tiempo que son una superficie acristalada transparente. Su código debe poder gestionar este nuevo concepto, sabiendo que una pared cortina se define por su orientación y su superficie.  \n",
    "\n",
    "Comportamiento esperado:\n",
    "```\t\n",
    "casa.paredes[2] = ParedCortina(\"SUR\", 10) \n",
    "print(casa.superficie_acristalada()) \n",
    ">>> 12.5 \n",
    "```"
   ]
  },
  {
   "cell_type": "code",
   "execution_count": 4,
   "metadata": {},
   "outputs": [],
   "source": [
    "class ParedCortina(Pared, Ventana):\n",
    "    def __init__(self, orientacion, superficie):\n",
    "        Pared.__init__(self, orientacion)\n",
    "        Ventana.__init__(self, self, superficie)\n",
    "\n",
    "    def __str__(self):\n",
    "        return f'Pared Cortina de orientación {self.orientacion.value} y superficie {self.superficie}'"
   ]
  },
  {
   "cell_type": "code",
   "execution_count": 5,
   "metadata": {},
   "outputs": [
    {
     "name": "stdout",
     "output_type": "stream",
     "text": [
      "12.5\n"
     ]
    }
   ],
   "source": [
    "casa.paredes[2] = ParedCortina(\"SUR\", 10) \n",
    "print(casa.superficie_acristalada()) \n",
    "# >>> 12.5"
   ]
  },
  {
   "cell_type": "markdown",
   "metadata": {},
   "source": [
    "Enunciado: se publica una nueva regulación térmica del edificio e impone protecciones externas en las ventanas, con el fin de aumentar el aislamiento de las casas residenciales. Su código ahora debe detenerse si alguna vez se crea una instancia de una ventana sin protección externa (para eso, use el comando raise Exception(\"mensaje\"); este mecanismo se explicará en la sección dedicada a las excepciones). En el contexto de este ejercicio, la protección se limitará a una cadena de caracteres (\"Persiana\", \"Estor\", etc.).  \n",
    "\n",
    "Comportamiento esperado:\n",
    "```\n",
    "ventana_norte = Ventana(pared_norte, 0.5) \n",
    ">>> TypeError: __init__() missing 1 required positional argument: \n",
    "'proteccion' \n",
    "\n",
    "ventana_norte = Ventana(pared_norte, 0.5, None) \n",
    ">>> Exception: Protección obligatoria \n",
    "\n",
    "ventana_norte = Ventana(pared_norte, 0.5, \"Persiana\") \n",
    "[...] \n",
    "\n",
    "print(casa.superficie_acristalada()) \n",
    ">>> 4.5 \n",
    "```"
   ]
  },
  {
   "cell_type": "code",
   "execution_count": 6,
   "metadata": {},
   "outputs": [],
   "source": [
    "lista_protecciones_ventanas = ['persiana', 'estor', 'cortina']\n",
    "\n",
    "class Ventana:\n",
    "    def __init__(self, pared, superficie, proteccion):\n",
    "        self.pared = pared\n",
    "        paredes_con_ventana.update({pared : self})\n",
    "        self.superficie = superficie\n",
    "        self.proteccion = proteccion\n",
    "\n",
    "        if not isinstance(pared, Pared):\n",
    "            raise TypeError(\"El parámetro pared debe ser un objeto de la clase Pared\")\n",
    "        if not isinstance(superficie, int) and not isinstance(superficie, float):\n",
    "            raise TypeError(\"El parámetro superficie debe ser un número real\")\n",
    "        if isinstance(proteccion, str):\n",
    "            if proteccion.lower() in lista_protecciones_ventanas:\n",
    "                pass\n",
    "            else:\n",
    "                raise ValueError(\"La protección no es válida\")\n",
    "        else:\n",
    "            raise Exception(\"Protección obligatoria\")\n",
    "    \n",
    "    def __str__(self):\n",
    "        return f'Ventana de orientación {self.pared.orientacion.value} y superficie {self.superficie}'"
   ]
  },
  {
   "cell_type": "code",
   "execution_count": 7,
   "metadata": {},
   "outputs": [
    {
     "ename": "TypeError",
     "evalue": "Ventana.__init__() missing 1 required positional argument: 'proteccion'",
     "output_type": "error",
     "traceback": [
      "\u001b[1;31m---------------------------------------------------------------------------\u001b[0m",
      "\u001b[1;31mTypeError\u001b[0m                                 Traceback (most recent call last)",
      "\u001b[1;32mc:\\Users\\velir\\OneDrive - Universidad Alfonso X el Sabio\\1. UAX UNIVERSIDAD\\Curso 2022-23\\2C-1 Estructuras Datos y Algoritmos 1\\02_Intro-POO\\HERENCIA\\Entrega-Herencia\\Ejercicio-4\\ej-4.ipynb Cell 10\u001b[0m in \u001b[0;36m1\n\u001b[1;32m----> <a href='vscode-notebook-cell:/c%3A/Users/velir/OneDrive%20-%20Universidad%20Alfonso%20X%20el%20Sabio/1.%20UAX%20UNIVERSIDAD/Curso%202022-23/2C-1%20Estructuras%20Datos%20y%20Algoritmos%201/02_Intro-POO/HERENCIA/Entrega-Herencia/Ejercicio-4/ej-4.ipynb#X13sZmlsZQ%3D%3D?line=0'>1</a>\u001b[0m ventana_norte \u001b[39m=\u001b[39m Ventana(pared_norte, \u001b[39m0.5\u001b[39;49m)\n",
      "\u001b[1;31mTypeError\u001b[0m: Ventana.__init__() missing 1 required positional argument: 'proteccion'"
     ]
    }
   ],
   "source": [
    "ventana_norte = Ventana(pared_norte, 0.5) \n",
    "#>>> TypeError: __init__() missing 1 required positional argument: 'proteccion' "
   ]
  },
  {
   "cell_type": "code",
   "execution_count": 8,
   "metadata": {},
   "outputs": [
    {
     "ename": "Exception",
     "evalue": "Protección obligatoria",
     "output_type": "error",
     "traceback": [
      "\u001b[1;31m---------------------------------------------------------------------------\u001b[0m",
      "\u001b[1;31mException\u001b[0m                                 Traceback (most recent call last)",
      "\u001b[1;32mc:\\Users\\velir\\OneDrive - Universidad Alfonso X el Sabio\\1. UAX UNIVERSIDAD\\Curso 2022-23\\2C-1 Estructuras Datos y Algoritmos 1\\02_Intro-POO\\HERENCIA\\Entrega-Herencia\\Ejercicio-4\\ej-4.ipynb Cell 11\u001b[0m in \u001b[0;36m1\n\u001b[1;32m----> <a href='vscode-notebook-cell:/c%3A/Users/velir/OneDrive%20-%20Universidad%20Alfonso%20X%20el%20Sabio/1.%20UAX%20UNIVERSIDAD/Curso%202022-23/2C-1%20Estructuras%20Datos%20y%20Algoritmos%201/02_Intro-POO/HERENCIA/Entrega-Herencia/Ejercicio-4/ej-4.ipynb#X14sZmlsZQ%3D%3D?line=0'>1</a>\u001b[0m ventana_norte \u001b[39m=\u001b[39m Ventana(pared_norte, \u001b[39m0.5\u001b[39;49m, \u001b[39mNone\u001b[39;49;00m)\n",
      "\u001b[1;32mc:\\Users\\velir\\OneDrive - Universidad Alfonso X el Sabio\\1. UAX UNIVERSIDAD\\Curso 2022-23\\2C-1 Estructuras Datos y Algoritmos 1\\02_Intro-POO\\HERENCIA\\Entrega-Herencia\\Ejercicio-4\\ej-4.ipynb Cell 11\u001b[0m in \u001b[0;36m2\n\u001b[0;32m     <a href='vscode-notebook-cell:/c%3A/Users/velir/OneDrive%20-%20Universidad%20Alfonso%20X%20el%20Sabio/1.%20UAX%20UNIVERSIDAD/Curso%202022-23/2C-1%20Estructuras%20Datos%20y%20Algoritmos%201/02_Intro-POO/HERENCIA/Entrega-Herencia/Ejercicio-4/ej-4.ipynb#X14sZmlsZQ%3D%3D?line=17'>18</a>\u001b[0m         \u001b[39mraise\u001b[39;00m \u001b[39mValueError\u001b[39;00m(\u001b[39m\"\u001b[39m\u001b[39mLa protección no es válida\u001b[39m\u001b[39m\"\u001b[39m)\n\u001b[0;32m     <a href='vscode-notebook-cell:/c%3A/Users/velir/OneDrive%20-%20Universidad%20Alfonso%20X%20el%20Sabio/1.%20UAX%20UNIVERSIDAD/Curso%202022-23/2C-1%20Estructuras%20Datos%20y%20Algoritmos%201/02_Intro-POO/HERENCIA/Entrega-Herencia/Ejercicio-4/ej-4.ipynb#X14sZmlsZQ%3D%3D?line=18'>19</a>\u001b[0m \u001b[39melse\u001b[39;00m:\n\u001b[1;32m---> <a href='vscode-notebook-cell:/c%3A/Users/velir/OneDrive%20-%20Universidad%20Alfonso%20X%20el%20Sabio/1.%20UAX%20UNIVERSIDAD/Curso%202022-23/2C-1%20Estructuras%20Datos%20y%20Algoritmos%201/02_Intro-POO/HERENCIA/Entrega-Herencia/Ejercicio-4/ej-4.ipynb#X14sZmlsZQ%3D%3D?line=19'>20</a>\u001b[0m     \u001b[39mraise\u001b[39;00m \u001b[39mException\u001b[39;00m(\u001b[39m\"\u001b[39m\u001b[39mProtección obligatoria\u001b[39m\u001b[39m\"\u001b[39m)\n",
      "\u001b[1;31mException\u001b[0m: Protección obligatoria"
     ]
    }
   ],
   "source": [
    "ventana_norte = Ventana(pared_norte, 0.5, None) \n",
    "#>>> Exception: Protección obligatoria "
   ]
  },
  {
   "cell_type": "code",
   "execution_count": 9,
   "metadata": {},
   "outputs": [
    {
     "name": "stdout",
     "output_type": "stream",
     "text": [
      "12.5\n"
     ]
    }
   ],
   "source": [
    "ventana_norte = Ventana(pared_norte, 0.5, \"Persiana\") \n",
    "print(casa.superficie_acristalada()) \n",
    "#>>> 12.5 porque está tomando la ParedCortina de la ventana sur"
   ]
  }
 ],
 "metadata": {
  "kernelspec": {
   "display_name": "Python 3",
   "language": "python",
   "name": "python3"
  },
  "language_info": {
   "codemirror_mode": {
    "name": "ipython",
    "version": 3
   },
   "file_extension": ".py",
   "mimetype": "text/x-python",
   "name": "python",
   "nbconvert_exporter": "python",
   "pygments_lexer": "ipython3",
   "version": "3.10.7"
  },
  "orig_nbformat": 4
 },
 "nbformat": 4,
 "nbformat_minor": 2
}
