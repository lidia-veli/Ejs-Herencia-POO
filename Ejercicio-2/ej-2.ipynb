{
 "cells": [
  {
   "attachments": {},
   "cell_type": "markdown",
   "metadata": {},
   "source": [
    "# Ejercicio 2: Puzzle\n",
    "Enunciado: ¿qué muestra este programa en la salida estándar?"
   ]
  },
  {
   "cell_type": "code",
   "execution_count": 1,
   "metadata": {},
   "outputs": [
    {
     "name": "stdout",
     "output_type": "stream",
     "text": [
      "a\n",
      "a\n",
      "\n",
      "b\n",
      "bb\n",
      "bb\n",
      "\n",
      "c\n",
      "cc\n",
      "\n",
      "c\n"
     ]
    }
   ],
   "source": [
    "class Base: \n",
    "    def __init__(self): \n",
    "        self.a = \"a\"   # atributos constantes a todas las instancias\n",
    "        self.b = \"b\" \n",
    "        self.c = \"c\" \n",
    " \n",
    "    def A(self): \n",
    "        print(self.a)  # >>> a\n",
    " \n",
    "    def B(self): \n",
    "        print(self.b)  # >>> b\n",
    " \n",
    "    def C(self): \n",
    "        print(self.c)  # >>> c\n",
    "\n",
    "\n",
    "class Derivada(Base): \n",
    "    def __init__(self): \n",
    "        self.a = \"aa\"   \n",
    "        super().__init__()  # llama al contructor de la clase madre\n",
    "                                # self.a = 'a'\n",
    "                                # self.b = 'b'\n",
    "        self.c = \"cc\"       # modifica el valor del atributo .c\n",
    "                                # self.c = 'cc'\n",
    "\n",
    "    def A(self): \n",
    "        print(self.a)   # >>> a\n",
    "                        # porque al hacer el super().__init__() se sobreescribe el valor del atributo por el de la clase madre\n",
    " \n",
    "    def B(self): \n",
    "        self.b = \"bb\"   # sobreescribe el valor del atributo .b\n",
    "        super().B()     # print(self.b)\n",
    "        print(self.b)   # imprimir otra vez\n",
    " \n",
    " \n",
    "base = Base() \n",
    "derivada = Derivada() \n",
    " \n",
    "base.A()        # >>> a\n",
    "derivada.A()    # >>> a\n",
    "print() \n",
    "base.B()        # >>> b\n",
    "derivada.B()    # >>> bb\n",
    "                #     bb\n",
    "print()         \n",
    "base.C()        # >>> c\n",
    "derivada.C()    # >>> cc\n",
    "print()\n",
    "derivada = base # la instancia de la variable derivada pasa a ser una instancia de la clase base\n",
    "derivada.C()    # >>> c"
   ]
  }
 ],
 "metadata": {
  "kernelspec": {
   "display_name": "Python 3",
   "language": "python",
   "name": "python3"
  },
  "language_info": {
   "codemirror_mode": {
    "name": "ipython",
    "version": 3
   },
   "file_extension": ".py",
   "mimetype": "text/x-python",
   "name": "python",
   "nbconvert_exporter": "python",
   "pygments_lexer": "ipython3",
   "version": "3.10.7"
  },
  "orig_nbformat": 4
 },
 "nbformat": 4,
 "nbformat_minor": 2
}
