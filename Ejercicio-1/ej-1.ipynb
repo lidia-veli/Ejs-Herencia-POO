{
 "cells": [
  {
   "cell_type": "markdown",
   "metadata": {},
   "source": [
    "# Ejercicio 1: Herencia Simple\n",
    "1.1) definir una clase Punto2D que tenga dos atributos x e y, y que implemente un método de traslacion() que reciba como parámetro las dos componentes horizontal y vertical de la traslación, y modifique las coordenadas del punto en cuestión según el principio de que una traslación (a, b) consiste en sumar a (respectivamente b), al componente x (respectivamente y) de un punto.\n",
    "\n",
    "Comportamiento esperado:\n",
    "```\n",
    "a = Punto2D(1, 2) \n",
    "print(\"A = {}\".format(a)) \n",
    ">>> A = X: 1; Y: 2 \n",
    " \n",
    "a.traslacion(-1, -2) \n",
    "print(\"A = {}\".format(a)) \n",
    ">>> A = X: 0; Y: 0 \n",
    " \n",
    "b = Punto2D(-3, 0) \n",
    "b.traslacion(5, -1) \n",
    "print(\"B = {}\".format(b)) \n",
    ">>> B = X: 2; Y: -1  \n",
    "```"
   ]
  },
  {
   "cell_type": "code",
   "execution_count": 1,
   "metadata": {},
   "outputs": [],
   "source": [
    "class Punto2D:\n",
    "    def __init__(self, x, y):\n",
    "        self.x = x\n",
    "        self.y = y\n",
    "    \n",
    "    def __str__(self):\n",
    "        return f'X: {self.x}, Y: {self.y}'\n",
    "\n",
    "    def traslacion(self, a, b):\n",
    "        '''Método que traslada un punto en el plano\n",
    "        ENTRADA: \n",
    "            a: valor de traslación en el eje x\n",
    "            b: valor de traslación en el eje y\n",
    "        SALIDA: \n",
    "            None\n",
    "        '''\n",
    "        self.x += a\n",
    "        self.y += b\n"
   ]
  },
  {
   "cell_type": "code",
   "execution_count": 2,
   "metadata": {},
   "outputs": [
    {
     "name": "stdout",
     "output_type": "stream",
     "text": [
      "A = X: 1, Y: 2\n"
     ]
    }
   ],
   "source": [
    "a = Punto2D(1, 2) \n",
    "print(\"A = {}\".format(a)) \n",
    "# >>> A = X: 1; Y: 2"
   ]
  },
  {
   "cell_type": "code",
   "execution_count": 3,
   "metadata": {},
   "outputs": [
    {
     "name": "stdout",
     "output_type": "stream",
     "text": [
      "A = X: 0, Y: 0\n"
     ]
    }
   ],
   "source": [
    "a.traslacion(-1, -2) \n",
    "print(\"A = {}\".format(a)) \n",
    "# >>> A = X: 0; Y: 0  "
   ]
  },
  {
   "cell_type": "code",
   "execution_count": 4,
   "metadata": {},
   "outputs": [
    {
     "name": "stdout",
     "output_type": "stream",
     "text": [
      "B = X: 2, Y: -1\n"
     ]
    }
   ],
   "source": [
    "b = Punto2D(-3, 0) \n",
    "b.traslacion(5, -1) \n",
    "print(\"B = {}\".format(b)) \n",
    "# >>> B = X: 2; Y: -1 "
   ]
  },
  {
   "cell_type": "markdown",
   "metadata": {},
   "source": [
    "1.2) ahora añada la gestión de un punto en tres dimensiones, según los mismos principios que el punto 2D. Nota: esta adición se debe realizar sin acceder directamente a los componentes x e y del punto 3D.\n",
    "\n",
    "Comportamiento esperado:\n",
    "```\n",
    "c = Punto3D(1,5,-3) \n",
    "c.traslacion(0, -2, 1) \n",
    "print(\"C = {}\".format(c)) \n",
    ">>> C = X: 1; Y: 3; Z = -2 \n",
    "```"
   ]
  },
  {
   "cell_type": "code",
   "execution_count": 5,
   "metadata": {},
   "outputs": [],
   "source": [
    "class Punto3D(Punto2D):\n",
    "    def __init__(self, x, y, z):\n",
    "        super().__init__(x,y)\n",
    "        self.z = z\n",
    "    \n",
    "    def __str__(self):\n",
    "        return super().__str__() + f', Z: {self.z}'\n",
    "    \n",
    "    def traslacion(self, a, b, c):\n",
    "        super().traslacion(a,b)  # trasladamos las corrdenadas x e y con la función de la clase padre\n",
    "        self.z += c  # y añadimos la de la coordenada z"
   ]
  },
  {
   "cell_type": "code",
   "execution_count": 6,
   "metadata": {},
   "outputs": [
    {
     "name": "stdout",
     "output_type": "stream",
     "text": [
      "C = X: 1, Y: 3, Z: -2\n"
     ]
    }
   ],
   "source": [
    "c = Punto3D(1,5,-3) \n",
    "c.traslacion(0, -2, 1) \n",
    "print(\"C = {}\".format(c)) \n",
    "# >>> C = X: 1; Y: 3; Z = -2 "
   ]
  }
 ],
 "metadata": {
  "kernelspec": {
   "display_name": "Python 3",
   "language": "python",
   "name": "python3"
  },
  "language_info": {
   "codemirror_mode": {
    "name": "ipython",
    "version": 3
   },
   "file_extension": ".py",
   "mimetype": "text/x-python",
   "name": "python",
   "nbconvert_exporter": "python",
   "pygments_lexer": "ipython3",
   "version": "3.10.7"
  },
  "orig_nbformat": 4
 },
 "nbformat": 4,
 "nbformat_minor": 2
}
